{
 "cells": [
  {
   "cell_type": "markdown",
   "metadata": {},
   "source": [
    "# Echtzeit Objekterkennung mit YOLO 3 (Keras)\n",
    "\n",
    "Link to [Raccoon](test.ipynb)"
   ]
  },
  {
   "cell_type": "markdown",
   "metadata": {},
   "source": [
    "## Zielsetzung\n",
    "- Erkennung von Objekten in Bildern oder Videostreams in Echtzeit\n",
    "- Identifizierung von bestimmten Objekten in Bildern oder Videostreams in Echtzeit\n",
    "- Mehrfach Klassifizierung\n",
    "- Mehrfach Erkennung "
   ]
  },
  {
   "cell_type": "markdown",
   "metadata": {},
   "source": [
    "## Dataset Aufbereitung"
   ]
  },
  {
   "cell_type": "markdown",
   "metadata": {},
   "source": [
    "1. Verzeichnisstruktur Dataset (geeignet für lokale Entwicklung mit PyCharm und für das Training mit der FloydHub Cloud)\n",
    "2. Bilder für Training mit Kamera erstellen oder von Google ect. laden\n",
    "3. Bilder annotieren mit LabelImg (https://github.com/tzutalin/labelImg) => Annotationen im Pascal VOC Format\n",
    "    1. Class-Names \n",
    "    \n",
    "    ![LabelImg](notebook\\images\\labelimg.png)\n",
    "\n",
    "\n",
    "4. Path der Annotationen von absolutem Pfad in relativen Pfad korrigieren mit yolo3_one_file_to_detect_them_all.py\n",
    "- FloydHub Dataset erstellen...\n",
    "\n"
   ]
  },
  {
   "cell_type": "markdown",
   "metadata": {},
   "source": [
    "## Model Training"
   ]
  },
  {
   "cell_type": "markdown",
   "metadata": {},
   "source": [
    "1. Verzeichnisstruktur Models...\n",
    "2. YOLO Konfiguration\n",
    "\n",
    "The configuration file is a json file, which looks like this:\n",
    "\n",
    "```python\n",
    "{\n",
    "  \"model\": {\n",
    "    \"min_input_size\": 352,\n",
    "    \"max_input_size\": 448,\n",
    "    \"anchors\": [117,142, 135,299, 153,216, 190,343, 235,248, 250,380, 302,316, 360,387, 369,268],\n",
    "    \"labels\": [\n",
    "      \"fabian\"\n",
    "    ]\n",
    "  },\n",
    "  \"train\": {\n",
    "    \"train_image_folder\": \"/floyd/input/fabian/images/\",\n",
    "    \"train_annot_folder\": \"/floyd/input/fabian/annotations/\",\n",
    "    \"cache_name\": \"models/fabian/fabian_train.pkl\",\n",
    "    \"train_times\": 10,\n",
    "    \"batch_size\": 16,\n",
    "    \"learning_rate\": 1e-4,\n",
    "    \"nb_epochs\": 100,\n",
    "    \"warmup_epochs\": 3,\n",
    "    \"ignore_thresh\": 0.5,\n",
    "    \"gpus\": \"0\",\n",
    "     \"grid_scales\": [\n",
    "      1,\n",
    "      1,\n",
    "      1\n",
    "    ],\n",
    "    \"obj_scale\": 5,\n",
    "    \"noobj_scale\": 1,\n",
    "    \"xywh_scale\": 1,\n",
    "    \"class_scale\": 1,\n",
    "    \"tensorboard_dir\": \"models/fabian/logs\",\n",
    "    \"saved_weights_name\": \"models/fabian/fabian.h5\",\n",
    "    \"debug\": true\n",
    "  },\n",
    "  \"valid\": {\n",
    "    \"valid_image_folder\": \"\",\n",
    "    \"valid_annot_folder\": \"\",\n",
    "    \"cache_name\": \"\",\n",
    "    \"valid_times\": 1\n",
    "  }\n",
    "}\n",
    "```\n",
    "\n",
    "    - Minimale und maximale Bildgröße\n",
    "    - Anchors... => generieren mit gen_anchors.py\n",
    "    - Labels => Classes\n",
    "    - Lernrate => decay\n",
    "    - Batchsize\n",
    "    - Train-Time\n",
    "    - Train Image Folder\n",
    "    - Train Annotation Folder\n",
    "    - Epochs\n",
    "    - GPUs\n",
    "    - Tensorboard Log-Dir\n",
    "    - Weights-File \n",
    "    \n",
    "    \n",
    "    * Early stopping\n",
    "    * adatptive Lernrate (ReduceLROnPlateau)\n",
    "    * Save Checkpoint pro Epoche\n",
    "    * Tensorboard\n",
    "3. FloydHub Projekt erstellen\n",
    "4. \n",
    "      \n",
    " "
   ]
  },
  {
   "cell_type": "code",
   "execution_count": null,
   "metadata": {},
   "outputs": [],
   "source": [
    "!python gen_anchors.py -c models/fabian/fabian_config.json"
   ]
  },
  {
   "cell_type": "code",
   "execution_count": null,
   "metadata": {},
   "outputs": [],
   "source": [
    "!python train.py -c models/raccoon/raccoon_config.json"
   ]
  },
  {
   "cell_type": "markdown",
   "metadata": {},
   "source": [
    "## Objekterkennung"
   ]
  },
  {
   "cell_type": "markdown",
   "metadata": {},
   "source": [
    "### Objekterkennung mit IP-Kamera"
   ]
  },
  {
   "cell_type": "code",
   "execution_count": null,
   "metadata": {},
   "outputs": [],
   "source": [
    "!python predict.py -c models/raccoon/raccoon_config.json -i webcam -o models/raccoon/output/"
   ]
  },
  {
   "cell_type": "code",
   "execution_count": 1,
   "metadata": {},
   "outputs": [
    {
     "name": "stderr",
     "output_type": "stream",
     "text": [
      "2018-09-04 16:57:44.923802: I C:\\users\\nwani\\_bazel_nwani\\mmtm6wb6\\execroot\\org_tensorflow\\tensorflow\\core\\platform\\cpu_feature_guard.cc:140] Your CPU supports instructions that this TensorFlow binary was not compiled to use: AVX AVX2\n",
      "2018-09-04 16:57:45.228883: I C:\\users\\nwani\\_bazel_nwani\\mmtm6wb6\\execroot\\org_tensorflow\\tensorflow\\core\\common_runtime\\gpu\\gpu_device.cc:1356] Found device 0 with properties: \n",
      "name: GeForce GTX 1050 major: 6 minor: 1 memoryClockRate(GHz): 1.493\n",
      "pciBusID: 0000:01:00.0\n",
      "totalMemory: 2.00GiB freeMemory: 1.61GiB\n",
      "2018-09-04 16:57:45.230152: I C:\\users\\nwani\\_bazel_nwani\\mmtm6wb6\\execroot\\org_tensorflow\\tensorflow\\core\\common_runtime\\gpu\\gpu_device.cc:1435] Adding visible gpu devices: 0\n",
      "2018-09-04 16:57:47.920072: I C:\\users\\nwani\\_bazel_nwani\\mmtm6wb6\\execroot\\org_tensorflow\\tensorflow\\core\\common_runtime\\gpu\\gpu_device.cc:923] Device interconnect StreamExecutor with strength 1 edge matrix:\n",
      "2018-09-04 16:57:47.920393: I C:\\users\\nwani\\_bazel_nwani\\mmtm6wb6\\execroot\\org_tensorflow\\tensorflow\\core\\common_runtime\\gpu\\gpu_device.cc:929]      0 \n",
      "2018-09-04 16:57:47.920629: I C:\\users\\nwani\\_bazel_nwani\\mmtm6wb6\\execroot\\org_tensorflow\\tensorflow\\core\\common_runtime\\gpu\\gpu_device.cc:942] 0:   N \n",
      "2018-09-04 16:57:47.926676: I C:\\users\\nwani\\_bazel_nwani\\mmtm6wb6\\execroot\\org_tensorflow\\tensorflow\\core\\common_runtime\\gpu\\gpu_device.cc:1053] Created TensorFlow device (/job:localhost/replica:0/task:0/device:GPU:0 with 1366 MB memory) -> physical GPU (device: 0, name: GeForce GTX 1050, pci bus id: 0000:01:00.0, compute capability: 6.1)\n",
      "Using TensorFlow backend.\n",
      "C:\\Users\\Andreas\\Anaconda3\\envs\\cv\\lib\\site-packages\\keras\\engine\\saving.py:269: UserWarning: No training configuration found in save file: the model was *not* compiled. Compile it manually.\n",
      "  warnings.warn('No training configuration found in save file: '\n",
      "2018-09-04 16:58:23.932952: E C:\\users\\nwani\\_bazel_nwani\\mmtm6wb6\\execroot\\org_tensorflow\\tensorflow\\stream_executor\\cuda\\cuda_dnn.cc:455] could not create cudnn handle: CUDNN_STATUS_ALLOC_FAILED\n",
      "2018-09-04 16:58:23.935486: F C:\\users\\nwani\\_bazel_nwani\\mmtm6wb6\\execroot\\org_tensorflow\\tensorflow\\core\\kernels\\conv_ops.cc:713] Check failed: stream->parent()->GetConvolveAlgorithms( conv_parameters.ShouldIncludeWinogradNonfusedAlgo<T>(), &algorithms) \n"
     ]
    }
   ],
   "source": [
    "!python predict.py -c models/fabian/fabian_config.json -i webcam -o models/fabian/output/"
   ]
  },
  {
   "cell_type": "code",
   "execution_count": null,
   "metadata": {},
   "outputs": [],
   "source": [
    "!python predict.py -c models/coco/coco_config.json -i webcam -o models/coco/output/"
   ]
  },
  {
   "cell_type": "markdown",
   "metadata": {},
   "source": [
    "### Objekterkennung in Bild"
   ]
  },
  {
   "cell_type": "code",
   "execution_count": null,
   "metadata": {},
   "outputs": [],
   "source": [
    "!python predict.py -c models/raccoon/raccoon_config.json -i models/raccoon/test/raccoon-1.jpg -o models/raccoon/output/"
   ]
  },
  {
   "cell_type": "markdown",
   "metadata": {},
   "source": [
    "### Objekterkennung in Video"
   ]
  },
  {
   "cell_type": "code",
   "execution_count": null,
   "metadata": {},
   "outputs": [],
   "source": [
    "!python predict.py -c models/raccoon/raccoon_config.json -i video.mp4"
   ]
  },
  {
   "cell_type": "code",
   "execution_count": null,
   "metadata": {},
   "outputs": [],
   "source": [
    "!python predict.py -c models/coco/coco_config.json -i models/coco/test/cars_cn_the_road.mp4 -o models/coco/output/"
   ]
  },
  {
   "cell_type": "code",
   "execution_count": null,
   "metadata": {},
   "outputs": [],
   "source": []
  }
 ],
 "metadata": {
  "kernelspec": {
   "display_name": "Python (cv)",
   "language": "python",
   "name": "cv"
  },
  "language_info": {
   "codemirror_mode": {
    "name": "ipython",
    "version": 3
   },
   "file_extension": ".py",
   "mimetype": "text/x-python",
   "name": "python",
   "nbconvert_exporter": "python",
   "pygments_lexer": "ipython3",
   "version": "3.6.6"
  }
 },
 "nbformat": 4,
 "nbformat_minor": 2
}
