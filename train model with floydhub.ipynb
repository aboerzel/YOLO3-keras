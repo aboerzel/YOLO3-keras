{
 "cells": [
  {
   "cell_type": "markdown",
   "metadata": {},
   "source": [
    "# Train model with FloydHub\n",
    "\n",
    "By the end of this process, the code will write the weights of the best model to file <model-name>.h5 (or whatever name specified in the setting \"saved_weights_name\" in the config.json file). The training process stops when the loss on the validation set is not improved in 3 consecutive epoches.\n"
   ]
  },
  {
   "cell_type": "code",
   "execution_count": null,
   "metadata": {},
   "outputs": [],
   "source": [
    "!python train.py -c models/fabian/fabian_config.json"
   ]
  },
  {
   "cell_type": "markdown",
   "metadata": {},
   "source": [
    "## Evaluation\n",
    "\n",
    "`python evaluate.py -c config.json`\n",
    "\n",
    "Compute the mAP performance of the model defined in `saved_weights_name` on the validation dataset defined in `valid_image_folder` and `valid_annot_folder`.\n"
   ]
  },
  {
   "cell_type": "markdown",
   "metadata": {},
   "source": [
    "## Training\n",
    "\n",
    "### 1. Data preparation \n",
    "[Create Dataset](create-dataset.ipynb)\n",
    "\n",
    "### 2. Edit the configuration file\n",
    "\n",
    "### 3. Generate anchors for your dataset (optional)\n",
    "\n",
    "### 4. Start the training process\n",
    "\n",
    "`python train.py -c config.json`\n",
    "\n",
    "### 5. Perform detection using trained weights on image, set of images, video, or webcam\n",
    "\n",
    "`python predict.py -c config.json -i /path/to/image/or/video`\n",
    "\n",
    "It carries out detection on the image and write the image with detected bounding boxes to the same folder.\n"
   ]
  },
  {
   "cell_type": "code",
   "execution_count": null,
   "metadata": {},
   "outputs": [],
   "source": []
  }
 ],
 "metadata": {
  "kernelspec": {
   "display_name": "Python (cv)",
   "language": "python",
   "name": "cv"
  },
  "language_info": {
   "codemirror_mode": {
    "name": "ipython",
    "version": 3
   },
   "file_extension": ".py",
   "mimetype": "text/x-python",
   "name": "python",
   "nbconvert_exporter": "python",
   "pygments_lexer": "ipython3",
   "version": "3.6.6"
  }
 },
 "nbformat": 4,
 "nbformat_minor": 2
}
