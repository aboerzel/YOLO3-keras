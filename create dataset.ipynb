{
 "cells": [
  {
   "cell_type": "markdown",
   "metadata": {},
   "source": [
    "# Create dataset"
   ]
  },
  {
   "cell_type": "markdown",
   "metadata": {},
   "source": [
    "## Dataset Aufbereitung"
   ]
  },
  {
   "cell_type": "markdown",
   "metadata": {},
   "source": [
    "1. Verzeichnisstruktur Dataset (geeignet für lokale Entwicklung mit PyCharm und für das Training mit der FloydHub Cloud)\n",
    "2. Bilder für Training mit Kamera erstellen oder von Google ect. laden\n",
    "3. Bilder annotieren mit LabelImg (https://github.com/tzutalin/labelImg) => Annotationen im Pascal VOC Format\n",
    "    1. Class-Names \n",
    "    \n",
    "    ![LabelImg](notebook\\images\\labelimg.png)\n",
    "\n",
    "\n",
    "4. Path der Annotationen von absolutem Pfad in relativen Pfad korrigieren\n",
    "- FloydHub Dataset erstellen...\n",
    "\n"
   ]
  },
  {
   "cell_type": "markdown",
   "metadata": {},
   "source": [
    "alle dateipdade mit \"/\" anstatt \"\\\" \n",
    "dateipfade und -namen alle klein => Kompatibilität Windows <=> Linux (FloydHub)"
   ]
  },
  {
   "cell_type": "code",
   "execution_count": null,
   "metadata": {},
   "outputs": [],
   "source": [
    "!python correct_path_in_voc_annotations.py -d floyd/input/fabian"
   ]
  },
  {
   "cell_type": "markdown",
   "metadata": {},
   "source": [
    "## Dataset and Model\n",
    "\n",
    "Dataset | mAP | Demo | Config | Model\n",
    ":---:|:---:|:---:|:---:|:---:\n",
    "Kangaroo Detection (1 class) (https://github.com/experiencor/kangaroo) | 95% | https://youtu.be/URO3UDHvoLY | check zoo | http://bit.do/ekQFj\n",
    "Raccoon Detection (1 class) (https://github.com/experiencor/raccoon_dataset) | 98% | https://youtu.be/lxLyLIL7OsU | check zoo | http://bit.do/ekQFf\n",
    "Red Blood Cell Detection (3 classes) (https://github.com/experiencor/BCCD_Dataset) | 84% | https://imgur.com/a/uJl2lRI | check zoo | http://bit.do/ekQFc\n",
    "VOC (20 classes) (http://host.robots.ox.ac.uk/pascal/VOC/voc2012/) | 72% | https://youtu.be/0RmOI6hcfBI | check zoo | http://bit.do/ekQE5\n"
   ]
  },
  {
   "cell_type": "markdown",
   "metadata": {},
   "source": [
    "The ```labels``` setting lists the labels to be trained on. Only images, which has labels being listed, are fed to the network. The rest images are simply ignored. By this way, a Dog Detector can easily be trained using VOC or COCO dataset by setting ```labels``` to ```['dog']```.\n"
   ]
  },
  {
   "cell_type": "code",
   "execution_count": null,
   "metadata": {},
   "outputs": [],
   "source": []
  },
  {
   "cell_type": "markdown",
   "metadata": {},
   "source": [
    "### 1. Data preparation \n",
    "\n",
    "Download the Raccoon dataset from from https://github.com/experiencor/raccoon_dataset.\n",
    "\n",
    "Organize the dataset into 4 folders:\n",
    "\n",
    "+ train_image_folder <= the folder that contains the train images.\n",
    "\n",
    "+ train_annot_folder <= the folder that contains the train annotations in VOC format.\n",
    "\n",
    "+ valid_image_folder <= the folder that contains the validation images.\n",
    "\n",
    "+ valid_annot_folder <= the folder that contains the validation annotations in VOC format.\n",
    "    \n",
    "There is a one-to-one correspondence by file name between images and annotations. If the validation set is empty, the training set will be automatically splitted into the training set and validation set using the ratio of 0.8.\n"
   ]
  },
  {
   "cell_type": "code",
   "execution_count": null,
   "metadata": {},
   "outputs": [],
   "source": []
  }
 ],
 "metadata": {
  "kernelspec": {
   "display_name": "Python (cv)",
   "language": "python",
   "name": "cv"
  },
  "language_info": {
   "codemirror_mode": {
    "name": "ipython",
    "version": 3
   },
   "file_extension": ".py",
   "mimetype": "text/x-python",
   "name": "python",
   "nbconvert_exporter": "python",
   "pygments_lexer": "ipython3",
   "version": "3.6.6"
  }
 },
 "nbformat": 4,
 "nbformat_minor": 2
}
