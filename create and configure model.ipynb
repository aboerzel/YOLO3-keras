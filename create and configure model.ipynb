{
 "cells": [
  {
   "cell_type": "markdown",
   "metadata": {},
   "source": [
    "# Create and configure model\t"
   ]
  },
  {
   "cell_type": "markdown",
   "metadata": {},
   "source": [
    "`python gen_anchors.py -c config.json`\n",
    "\n",
    "Copy the generated anchors printed on the terminal to the ```anchors``` setting in ```config.json```."
   ]
  },
  {
   "cell_type": "code",
   "execution_count": null,
   "metadata": {},
   "outputs": [],
   "source": [
    "!python gen_anchors.py -c models/fabian/fabian_config.json"
   ]
  },
  {
   "cell_type": "markdown",
   "metadata": {},
   "source": [
    "1. Verzeichnisstruktur Models...\n",
    "2. YOLO Konfiguration\n",
    "\n",
    "The configuration file is a json file, which looks like this:\n",
    "\n",
    "```python\n",
    "{\n",
    "  \"model\": {\n",
    "    \"min_input_size\": 352,\n",
    "    \"max_input_size\": 448,\n",
    "    \"anchors\": [117,142, 135,299, 153,216, 190,343, 235,248, 250,380, 302,316, 360,387, 369,268],\n",
    "    \"labels\": [\n",
    "      \"fabian\"\n",
    "    ]\n",
    "  },\n",
    "  \"train\": {\n",
    "    \"train_image_folder\": \"/floyd/input/fabian/images/\",\n",
    "    \"train_annot_folder\": \"/floyd/input/fabian/annotations/\",\n",
    "    \"cache_name\": \"models/fabian/fabian_train.pkl\",\n",
    "    \"train_times\": 10,\n",
    "    \"batch_size\": 16,\n",
    "    \"learning_rate\": 1e-4,\n",
    "    \"nb_epochs\": 100,\n",
    "    \"warmup_epochs\": 3,\n",
    "    \"ignore_thresh\": 0.5,\n",
    "    \"gpus\": \"0\",\n",
    "     \"grid_scales\": [\n",
    "      1,\n",
    "      1,\n",
    "      1\n",
    "    ],\n",
    "    \"obj_scale\": 5,\n",
    "    \"noobj_scale\": 1,\n",
    "    \"xywh_scale\": 1,\n",
    "    \"class_scale\": 1,\n",
    "    \"tensorboard_dir\": \"models/fabian/logs\",\n",
    "    \"saved_weights_name\": \"models/fabian/fabian.h5\",\n",
    "    \"debug\": true\n",
    "  },\n",
    "  \"valid\": {\n",
    "    \"valid_image_folder\": \"\",\n",
    "    \"valid_annot_folder\": \"\",\n",
    "    \"cache_name\": \"\",\n",
    "    \"valid_times\": 1\n",
    "  }\n",
    "}\n",
    "```\n",
    "\n",
    "    - Minimale und maximale Bildgröße\n",
    "    - Anchors... => generieren mit gen_anchors.py\n",
    "    - Labels => Classes\n",
    "    - Lernrate => decay\n",
    "    - Batchsize\n",
    "    - Train-Time\n",
    "    - Train Image Folder\n",
    "    - Train Annotation Folder\n",
    "    - Epochs\n",
    "    - GPUs\n",
    "    - Tensorboard Log-Dir\n",
    "    - Weights-File \n",
    "    \n",
    "    \n",
    "    * Early stopping\n",
    "    * adatptive Lernrate (ReduceLROnPlateau)\n",
    "    * Save Checkpoint pro Epoche\n",
    "    * Tensorboard\n",
    "3. FloydHub Projekt erstellen\n",
    "4. \n",
    "    "
   ]
  },
  {
   "cell_type": "code",
   "execution_count": null,
   "metadata": {},
   "outputs": [],
   "source": []
  }
 ],
 "metadata": {
  "kernelspec": {
   "display_name": "Python (cv)",
   "language": "python",
   "name": "cv"
  },
  "language_info": {
   "codemirror_mode": {
    "name": "ipython",
    "version": 3
   },
   "file_extension": ".py",
   "mimetype": "text/x-python",
   "name": "python",
   "nbconvert_exporter": "python",
   "pygments_lexer": "ipython3",
   "version": "3.6.6"
  }
 },
 "nbformat": 4,
 "nbformat_minor": 2
}
